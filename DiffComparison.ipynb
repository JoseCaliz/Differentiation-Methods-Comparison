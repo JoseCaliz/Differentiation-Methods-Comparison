{
 "cells": [
  {
   "cell_type": "code",
   "execution_count": null,
   "metadata": {},
   "outputs": [],
   "source": []
  },
  {
   "cell_type": "markdown",
   "metadata": {
    "slideshow": {
     "slide_type": "-"
    }
   },
   "source": [
    "# Numerical Differentiation"
   ]
  },
  {
   "cell_type": "code",
   "execution_count": 2,
   "metadata": {},
   "outputs": [],
   "source": [
    "#!pip install SymPy\n",
    "#!pip install numpy\n",
    "\n",
    "import sympy as smp\n",
    "import numpy as np\n",
    "from mpmath import *\n",
    "\n",
    "#Setting mpmath to have 50 digits of precision\n",
    "mp.dps = 50"
   ]
  },
  {
   "cell_type": "markdown",
   "metadata": {},
   "source": [
    "### Euclidean Norm\n",
    "\n",
    "In this example we shall see that by doing numerical differentiation, the truncation errors will be available. It is not recommended this procedure, unless the user do not know the right equation to model the data. For this example we'll see the derivative of the euclidean norm defined by:\n",
    "$$f(x) = \\sum_{i=1}^{n} x_{i}^{2}$$\n",
    "\n",
    "And we will calculate the gradients at:\n",
    "$$x_i = i \\quad \\text{for} \\quad i = 1, 2, \\dots, 10$$"
   ]
  },
  {
   "cell_type": "code",
   "execution_count": 3,
   "metadata": {},
   "outputs": [],
   "source": [
    "def Euclidean2Norm(X):\n",
    "    return np.sum(np.power(X,2))"
   ]
  },
  {
   "cell_type": "markdown",
   "metadata": {},
   "source": [
    "Initializing the arrays, in this example a 10-dimension array\n",
    "   * $n$ = 10\n",
    "   * $e_1$' = $[1, 0, \\dots 0]$\n",
    "   * $h$ = $\\sqrt{2^{-54}}$"
   ]
  },
  {
   "cell_type": "code",
   "execution_count": 5,
   "metadata": {},
   "outputs": [
    {
     "name": "stdout",
     "output_type": "stream",
     "text": [
      "0.000000007450580596923828125\n"
     ]
    }
   ],
   "source": [
    "X = np.array([a+1 for a in range(10)])\n",
    "e1 = np.array([0 if a>0 else 1 for a in range(10)])\n",
    "h = mpf((2**(-54))**(0.5))\n",
    "print(h)"
   ]
  },
  {
   "cell_type": "markdown",
   "metadata": {},
   "source": [
    "The first gradient component is defined by\n",
    "$$\\frac{1}{h}\\left[ f(x + h e_1) - f(x) \\right] = \\frac{\\partial}{\\partial x_1}f(x) + h = 2 x_1 + h = 2 + h$$"
   ]
  },
  {
   "cell_type": "code",
   "execution_count": 6,
   "metadata": {},
   "outputs": [
    {
     "name": "stdout",
     "output_type": "stream",
     "text": [
      "2.000000007450580596923828125\n"
     ]
    }
   ],
   "source": [
    "#Evaluating the first gradient\n",
    "from operator import add\n",
    "a = [x*h for x in e1]\n",
    "b = list(map(add, a, X))\n",
    "diff1 = 1/h * (Euclidean2Norm(b) - Euclidean2Norm(X))\n",
    "print(diff1)"
   ]
  },
  {
   "cell_type": "markdown",
   "metadata": {},
   "source": [
    "It can be seen that the first gradient component is not equal to 2, this because of the truncated error. As a general rule, **derivatives must not incurr in truncation errors**"
   ]
  },
  {
   "cell_type": "markdown",
   "metadata": {},
   "source": [
    "## Second example of numeric differentiation"
   ]
  },
  {
   "cell_type": "markdown",
   "metadata": {},
   "source": [
    "# Symbolic Differentiation"
   ]
  },
  {
   "cell_type": "code",
   "execution_count": 7,
   "metadata": {},
   "outputs": [
    {
     "data": {
      "image/png": "[encoded data removed]",
      "text/latex": [
       "$\\displaystyle x y z$"
      ],
      "text/plain": [
       "x⋅y⋅z"
      ]
     },
     "execution_count": 7,
     "metadata": {},
     "output_type": "execute_result"
    }
   ],
   "source": [
    "#Libraries\n",
    "from sympy import *\n",
    "init_printing()\n",
    "x = Symbol('x')\n",
    "y = Symbol('y')\n",
    "z = Symbol('z')\n",
    "\n",
    "h = x*y*z\n",
    "h"
   ]
  },
  {
   "cell_type": "code",
   "execution_count": 8,
   "metadata": {},
   "outputs": [
    {
     "data": {
      "image/png": "[encoded data removed]",
      "text/latex": [
       "$\\displaystyle 0$"
      ],
      "text/plain": [
       "0"
      ]
     },
     "execution_count": 8,
     "metadata": {},
     "output_type": "execute_result"
    }
   ],
   "source": [
    "limit(h, x, 0)"
   ]
  },
  {
   "cell_type": "code",
   "execution_count": 9,
   "metadata": {},
   "outputs": [
    {
     "data": {
      "image/png": "[encoded data removed]",
      "text/latex": [
       "$\\displaystyle \\frac{\\pi^{2} y z}{2}$"
      ],
      "text/plain": [
       " 2    \n",
       "π ⋅y⋅z\n",
       "──────\n",
       "  2   "
      ]
     },
     "execution_count": 9,
     "metadata": {},
     "output_type": "execute_result"
    }
   ],
   "source": [
    "integrate(h, (x, 0, pi))"
   ]
  },
  {
   "cell_type": "code",
   "execution_count": 10,
   "metadata": {},
   "outputs": [
    {
     "data": {
      "image/png": "[encoded data removed]",
      "text/latex": [
       "$\\displaystyle 50 y z$"
      ],
      "text/plain": [
       "50⋅y⋅z"
      ]
     },
     "execution_count": 10,
     "metadata": {},
     "output_type": "execute_result"
    }
   ],
   "source": [
    "integrate(h, (x, 0, 10))"
   ]
  },
  {
   "cell_type": "code",
   "execution_count": 11,
   "metadata": {},
   "outputs": [
    {
     "data": {
      "image/png": "[encoded data removed]",
      "text/latex": [
       "$\\displaystyle \\left[ \\left( x, \\  y, \\  \\frac{3^{x}}{2} + \\frac{y^{2}}{2}\\right)\\right]$"
      ],
      "text/plain": [
       "⎡⎛       x    2⎞⎤\n",
       "⎢⎜      3    y ⎟⎥\n",
       "⎢⎜x, y, ── + ──⎟⎥\n",
       "⎣⎝      2    2 ⎠⎦"
      ]
     },
     "execution_count": 11,
     "metadata": {},
     "output_type": "execute_result"
    }
   ],
   "source": [
    "h = 3**x + y**2 - z*sqrt(4)\n",
    "solve(h, [x,y,z])"
   ]
  },
  {
   "cell_type": "code",
   "execution_count": 12,
   "metadata": {},
   "outputs": [
    {
     "data": {
      "image/png": "[encoded data removed]",
      "text/latex": [
       "$\\displaystyle \\frac{90 x^{8} y}{z}$"
      ],
      "text/plain": [
       "    8  \n",
       "90⋅x ⋅y\n",
       "───────\n",
       "   z   "
      ]
     },
     "execution_count": 12,
     "metadata": {},
     "output_type": "execute_result"
    }
   ],
   "source": [
    "h = x**10*y/z\n",
    "\n",
    "# (func, variable, order)\n",
    "diff(h, x, 2)"
   ]
  },
  {
   "cell_type": "code",
   "execution_count": 13,
   "metadata": {},
   "outputs": [
    {
     "name": "stdout",
     "output_type": "stream",
     "text": [
      "2/5\n",
      "0.400000000000000\n"
     ]
    }
   ],
   "source": [
    "print(h.subs({x:1, y:4, z:10}))\n",
    "print(h.subs({x:1, y:4, z:10}).evalf())"
   ]
  },
  {
   "cell_type": "code",
   "execution_count": 14,
   "metadata": {},
   "outputs": [
    {
     "data": {
      "image/png": "[encoded data removed]",
      "text/latex": [
       "$\\displaystyle e^{\\cos{\\left(\\sin{\\left(\\frac{x y}{z} \\right)} \\right)}} + \\log{\\left(z^{y^{z}} \\right)} + \\log{\\left(\\sqrt{x^{y} - z^{x}} \\right)} + \\tan{\\left(\\cos{\\left(\\frac{x}{y} \\right)} \\right)}$"
      ],
      "text/plain": [
       "    ⎛   ⎛x⋅y⎞⎞                                               \n",
       " cos⎜sin⎜───⎟⎟      ⎛ ⎛ z⎞⎞      ⎛   _________⎞              \n",
       "    ⎝   ⎝ z ⎠⎠      ⎜ ⎝y ⎠⎟      ⎜  ╱  y    x ⎟      ⎛   ⎛x⎞⎞\n",
       "ℯ              + log⎝z    ⎠ + log⎝╲╱  x  - z  ⎠ + tan⎜cos⎜─⎟⎟\n",
       "                                                     ⎝   ⎝y⎠⎠"
      ]
     },
     "execution_count": 14,
     "metadata": {},
     "output_type": "execute_result"
    }
   ],
   "source": [
    "i = Symbol('i')\n",
    "h = exp(cos(sin(x*y/z)))+log(sqrt(x**y - z**x)) + ln(z**(y**z))+tan(cos(x/y))\n",
    "h"
   ]
  },
  {
   "cell_type": "code",
   "execution_count": 15,
   "metadata": {},
   "outputs": [
    {
     "name": "stdout",
     "output_type": "stream",
     "text": [
      "20.6 ms ± 0 ns per loop (mean ± std. dev. of 1 run, 10 loops each)\n"
     ]
    }
   ],
   "source": [
    "%%timeit -n10 -r1\n",
    "hd_x = diff(h,x,1)\n",
    "hd_y = diff(h,y,1)\n",
    "hd_z = diff(h,z,1)\n",
    "\n",
    "hd_x.subs({x:4, y:1, z:1}).evalf()\n",
    "hd_y.subs({x:4, y:1, z:1}).evalf()\n",
    "hd_z.subs({x:4, y:1, z:1}).evalf()"
   ]
  },
  {
   "cell_type": "code",
   "execution_count": 16,
   "metadata": {},
   "outputs": [
    {
     "name": "stdout",
     "output_type": "stream",
     "text": [
      "5.57 s ± 0 ns per loop (mean ± std. dev. of 1 run, 10 loops each)\n"
     ]
    }
   ],
   "source": [
    "%%timeit -n10 -r1\n",
    "hd_x = diff(h,x,9)\n",
    "hd_y = diff(h,y,3)\n",
    "hd_z = diff(h,z,4)\n",
    "\n",
    "hd_x.subs({x:4, y:1, z:1}).evalf()\n",
    "hd_y.subs({x:4, y:1, z:1}).evalf()\n",
    "hd_z.subs({x:4, y:1, z:1}).evalf()"
   ]
  },
  {
   "cell_type": "code",
   "execution_count": 18,
   "metadata": {},
   "outputs": [
    {
     "name": "stdout",
     "output_type": "stream",
     "text": [
      "33355.4720301172\n",
      "249.438856128440\n",
      "109.659332144600\n"
     ]
    }
   ],
   "source": [
    "hd_x = diff(h,x,9)\n",
    "hd_y = diff(h,y,3)\n",
    "hd_z = diff(h,z,4)\n",
    "\n",
    "print(hd_x.subs({x:4, y:1, z:1}).evalf())\n",
    "print(hd_y.subs({x:4, y:1, z:1}).evalf())\n",
    "print(hd_z.subs({x:4, y:1, z:1}).evalf())"
   ]
  },
  {
   "cell_type": "code",
   "execution_count": 20,
   "metadata": {},
   "outputs": [
    {
     "data": {
      "image/png": "[encoded data removed]",
      "text/latex": [
       "$\\displaystyle \\frac{3 x^{4} y^{4} e^{\\cos{\\left(\\sin{\\left(\\frac{x y}{z} \\right)} \\right)}} \\sin^{2}{\\left(\\frac{x y}{z} \\right)} \\sin^{2}{\\left(\\sin{\\left(\\frac{x y}{z} \\right)} \\right)}}{z^{8}} - \\frac{3 x^{4} y^{4} e^{\\cos{\\left(\\sin{\\left(\\frac{x y}{z} \\right)} \\right)}} \\sin^{2}{\\left(\\frac{x y}{z} \\right)} \\cos{\\left(\\sin{\\left(\\frac{x y}{z} \\right)} \\right)}}{z^{8}} + \\frac{6 x^{4} y^{4} e^{\\cos{\\left(\\sin{\\left(\\frac{x y}{z} \\right)} \\right)}} \\sin{\\left(\\frac{x y}{z} \\right)} \\sin^{3}{\\left(\\sin{\\left(\\frac{x y}{z} \\right)} \\right)} \\cos^{2}{\\left(\\frac{x y}{z} \\right)}}{z^{8}} - \\frac{18 x^{4} y^{4} e^{\\cos{\\left(\\sin{\\left(\\frac{x y}{z} \\right)} \\right)}} \\sin{\\left(\\frac{x y}{z} \\right)} \\sin{\\left(\\sin{\\left(\\frac{x y}{z} \\right)} \\right)} \\cos^{2}{\\left(\\frac{x y}{z} \\right)} \\cos{\\left(\\sin{\\left(\\frac{x y}{z} \\right)} \\right)}}{z^{8}} - \\frac{6 x^{4} y^{4} e^{\\cos{\\left(\\sin{\\left(\\frac{x y}{z} \\right)} \\right)}} \\sin{\\left(\\frac{x y}{z} \\right)} \\sin{\\left(\\sin{\\left(\\frac{x y}{z} \\right)} \\right)} \\cos^{2}{\\left(\\frac{x y}{z} \\right)}}{z^{8}} - \\frac{x^{4} y^{4} e^{\\cos{\\left(\\sin{\\left(\\frac{x y}{z} \\right)} \\right)}} \\sin{\\left(\\frac{x y}{z} \\right)} \\sin{\\left(\\sin{\\left(\\frac{x y}{z} \\right)} \\right)}}{z^{8}} + \\frac{x^{4} y^{4} e^{\\cos{\\left(\\sin{\\left(\\frac{x y}{z} \\right)} \\right)}} \\sin^{4}{\\left(\\sin{\\left(\\frac{x y}{z} \\right)} \\right)} \\cos^{4}{\\left(\\frac{x y}{z} \\right)}}{z^{8}} - \\frac{6 x^{4} y^{4} e^{\\cos{\\left(\\sin{\\left(\\frac{x y}{z} \\right)} \\right)}} \\sin^{2}{\\left(\\sin{\\left(\\frac{x y}{z} \\right)} \\right)} \\cos^{4}{\\left(\\frac{x y}{z} \\right)} \\cos{\\left(\\sin{\\left(\\frac{x y}{z} \\right)} \\right)}}{z^{8}} - \\frac{4 x^{4} y^{4} e^{\\cos{\\left(\\sin{\\left(\\frac{x y}{z} \\right)} \\right)}} \\sin^{2}{\\left(\\sin{\\left(\\frac{x y}{z} \\right)} \\right)} \\cos^{4}{\\left(\\frac{x y}{z} \\right)}}{z^{8}} - \\frac{4 x^{4} y^{4} e^{\\cos{\\left(\\sin{\\left(\\frac{x y}{z} \\right)} \\right)}} \\sin^{2}{\\left(\\sin{\\left(\\frac{x y}{z} \\right)} \\right)} \\cos^{2}{\\left(\\frac{x y}{z} \\right)}}{z^{8}} + \\frac{3 x^{4} y^{4} e^{\\cos{\\left(\\sin{\\left(\\frac{x y}{z} \\right)} \\right)}} \\cos^{4}{\\left(\\frac{x y}{z} \\right)} \\cos^{2}{\\left(\\sin{\\left(\\frac{x y}{z} \\right)} \\right)}}{z^{8}} + \\frac{x^{4} y^{4} e^{\\cos{\\left(\\sin{\\left(\\frac{x y}{z} \\right)} \\right)}} \\cos^{4}{\\left(\\frac{x y}{z} \\right)} \\cos{\\left(\\sin{\\left(\\frac{x y}{z} \\right)} \\right)}}{z^{8}} + \\frac{4 x^{4} y^{4} e^{\\cos{\\left(\\sin{\\left(\\frac{x y}{z} \\right)} \\right)}} \\cos^{2}{\\left(\\frac{x y}{z} \\right)} \\cos{\\left(\\sin{\\left(\\frac{x y}{z} \\right)} \\right)}}{z^{8}} - \\frac{3 x^{4} z^{4 x}}{z^{4} \\left(x^{y} - z^{x}\\right)^{4}} - \\frac{6 x^{4} z^{3 x}}{z^{4} \\left(x^{y} - z^{x}\\right)^{3}} - \\frac{7 x^{4} z^{2 x}}{2 z^{4} \\left(x^{y} - z^{x}\\right)^{2}} - \\frac{x^{4} z^{x}}{2 z^{4} \\left(x^{y} - z^{x}\\right)} - \\frac{36 x^{3} y^{3} e^{\\cos{\\left(\\sin{\\left(\\frac{x y}{z} \\right)} \\right)}} \\sin{\\left(\\frac{x y}{z} \\right)} \\sin^{2}{\\left(\\sin{\\left(\\frac{x y}{z} \\right)} \\right)} \\cos{\\left(\\frac{x y}{z} \\right)}}{z^{7}} + \\frac{36 x^{3} y^{3} e^{\\cos{\\left(\\sin{\\left(\\frac{x y}{z} \\right)} \\right)}} \\sin{\\left(\\frac{x y}{z} \\right)} \\cos{\\left(\\frac{x y}{z} \\right)} \\cos{\\left(\\sin{\\left(\\frac{x y}{z} \\right)} \\right)}}{z^{7}} - \\frac{12 x^{3} y^{3} e^{\\cos{\\left(\\sin{\\left(\\frac{x y}{z} \\right)} \\right)}} \\sin^{3}{\\left(\\sin{\\left(\\frac{x y}{z} \\right)} \\right)} \\cos^{3}{\\left(\\frac{x y}{z} \\right)}}{z^{7}} + \\frac{36 x^{3} y^{3} e^{\\cos{\\left(\\sin{\\left(\\frac{x y}{z} \\right)} \\right)}} \\sin{\\left(\\sin{\\left(\\frac{x y}{z} \\right)} \\right)} \\cos^{3}{\\left(\\frac{x y}{z} \\right)} \\cos{\\left(\\sin{\\left(\\frac{x y}{z} \\right)} \\right)}}{z^{7}} + \\frac{12 x^{3} y^{3} e^{\\cos{\\left(\\sin{\\left(\\frac{x y}{z} \\right)} \\right)}} \\sin{\\left(\\sin{\\left(\\frac{x y}{z} \\right)} \\right)} \\cos^{3}{\\left(\\frac{x y}{z} \\right)}}{z^{7}} + \\frac{12 x^{3} y^{3} e^{\\cos{\\left(\\sin{\\left(\\frac{x y}{z} \\right)} \\right)}} \\sin{\\left(\\sin{\\left(\\frac{x y}{z} \\right)} \\right)} \\cos{\\left(\\frac{x y}{z} \\right)}}{z^{7}} + \\frac{6 x^{3} z^{3 x}}{z^{4} \\left(x^{y} - z^{x}\\right)^{3}} + \\frac{9 x^{3} z^{2 x}}{z^{4} \\left(x^{y} - z^{x}\\right)^{2}} + \\frac{3 x^{3} z^{x}}{z^{4} \\left(x^{y} - z^{x}\\right)} + \\frac{36 x^{2} y^{2} e^{\\cos{\\left(\\sin{\\left(\\frac{x y}{z} \\right)} \\right)}} \\sin{\\left(\\frac{x y}{z} \\right)} \\sin{\\left(\\sin{\\left(\\frac{x y}{z} \\right)} \\right)}}{z^{6}} + \\frac{36 x^{2} y^{2} e^{\\cos{\\left(\\sin{\\left(\\frac{x y}{z} \\right)} \\right)}} \\sin^{2}{\\left(\\sin{\\left(\\frac{x y}{z} \\right)} \\right)} \\cos^{2}{\\left(\\frac{x y}{z} \\right)}}{z^{6}} - \\frac{36 x^{2} y^{2} e^{\\cos{\\left(\\sin{\\left(\\frac{x y}{z} \\right)} \\right)}} \\cos^{2}{\\left(\\frac{x y}{z} \\right)} \\cos{\\left(\\sin{\\left(\\frac{x y}{z} \\right)} \\right)}}{z^{6}} - \\frac{11 x^{2} z^{2 x}}{2 z^{4} \\left(x^{y} - z^{x}\\right)^{2}} - \\frac{11 x^{2} z^{x}}{2 z^{4} \\left(x^{y} - z^{x}\\right)} - \\frac{24 x y e^{\\cos{\\left(\\sin{\\left(\\frac{x y}{z} \\right)} \\right)}} \\sin{\\left(\\sin{\\left(\\frac{x y}{z} \\right)} \\right)} \\cos{\\left(\\frac{x y}{z} \\right)}}{z^{5}} + \\frac{3 x z^{x}}{z^{4} \\left(x^{y} - z^{x}\\right)} + y^{z} \\log{\\left(y \\right)}^{4} \\log{\\left(z \\right)} + \\frac{4 y^{z} \\log{\\left(y \\right)}^{3}}{z} - \\frac{6 y^{z} \\log{\\left(y \\right)}^{2}}{z^{2}} + \\frac{8 y^{z} \\log{\\left(y \\right)}}{z^{3}} - \\frac{6 y^{z}}{z^{4}}$"
      ],
      "text/plain": [
       "            ⎛   ⎛x⋅y⎞⎞                                        ⎛   ⎛x⋅y⎞⎞      \n",
       "         cos⎜sin⎜───⎟⎟                                     cos⎜sin⎜───⎟⎟      \n",
       "   4  4     ⎝   ⎝ z ⎠⎠    2⎛x⋅y⎞    2⎛   ⎛x⋅y⎞⎞      4  4     ⎝   ⎝ z ⎠⎠    2⎛\n",
       "3⋅x ⋅y ⋅ℯ             ⋅sin ⎜───⎟⋅sin ⎜sin⎜───⎟⎟   3⋅x ⋅y ⋅ℯ             ⋅sin ⎜\n",
       "                           ⎝ z ⎠     ⎝   ⎝ z ⎠⎠                              ⎝\n",
       "─────────────────────────────────────────────── - ────────────────────────────\n",
       "                        8                                                8    \n",
       "                       z                                                z     \n",
       "                                                                              \n",
       "\n",
       "                                 ⎛   ⎛x⋅y⎞⎞                                   \n",
       "                              cos⎜sin⎜───⎟⎟                                   \n",
       "x⋅y⎞    ⎛   ⎛x⋅y⎞⎞      4  4     ⎝   ⎝ z ⎠⎠    ⎛x⋅y⎞    3⎛   ⎛x⋅y⎞⎞    2⎛x⋅y⎞ \n",
       "───⎟⋅cos⎜sin⎜───⎟⎟   6⋅x ⋅y ⋅ℯ             ⋅sin⎜───⎟⋅sin ⎜sin⎜───⎟⎟⋅cos ⎜───⎟ \n",
       " z ⎠    ⎝   ⎝ z ⎠⎠                             ⎝ z ⎠     ⎝   ⎝ z ⎠⎠     ⎝ z ⎠ \n",
       "────────────────── + ──────────────────────────────────────────────────────── \n",
       "                                                 8                            \n",
       "                                                z                             \n",
       "                                                                              \n",
       "\n",
       "               ⎛   ⎛x⋅y⎞⎞                                                     \n",
       "            cos⎜sin⎜───⎟⎟                                                     \n",
       "      4  4     ⎝   ⎝ z ⎠⎠    ⎛x⋅y⎞    ⎛   ⎛x⋅y⎞⎞    2⎛x⋅y⎞    ⎛   ⎛x⋅y⎞⎞      \n",
       "  18⋅x ⋅y ⋅ℯ             ⋅sin⎜───⎟⋅sin⎜sin⎜───⎟⎟⋅cos ⎜───⎟⋅cos⎜sin⎜───⎟⎟   6⋅x\n",
       "                             ⎝ z ⎠    ⎝   ⎝ z ⎠⎠     ⎝ z ⎠    ⎝   ⎝ z ⎠⎠      \n",
       "- ────────────────────────────────────────────────────────────────────── - ───\n",
       "                                     8                                        \n",
       "                                    z                                         \n",
       "                                                                              \n",
       "\n",
       "         ⎛   ⎛x⋅y⎞⎞                                              ⎛   ⎛x⋅y⎞⎞   \n",
       "      cos⎜sin⎜───⎟⎟                                           cos⎜sin⎜───⎟⎟   \n",
       "4  4     ⎝   ⎝ z ⎠⎠    ⎛x⋅y⎞    ⎛   ⎛x⋅y⎞⎞    2⎛x⋅y⎞    4  4     ⎝   ⎝ z ⎠⎠   \n",
       " ⋅y ⋅ℯ             ⋅sin⎜───⎟⋅sin⎜sin⎜───⎟⎟⋅cos ⎜───⎟   x ⋅y ⋅ℯ             ⋅si\n",
       "                       ⎝ z ⎠    ⎝   ⎝ z ⎠⎠     ⎝ z ⎠                          \n",
       "──────────────────────────────────────────────────── - ───────────────────────\n",
       "                         8                                                   8\n",
       "                        z                                                   z \n",
       "                                                                              \n",
       "\n",
       "                                 ⎛   ⎛x⋅y⎞⎞                                   \n",
       "                              cos⎜sin⎜───⎟⎟                                   \n",
       " ⎛x⋅y⎞    ⎛   ⎛x⋅y⎞⎞    4  4     ⎝   ⎝ z ⎠⎠    4⎛   ⎛x⋅y⎞⎞    4⎛x⋅y⎞      4  4\n",
       "n⎜───⎟⋅sin⎜sin⎜───⎟⎟   x ⋅y ⋅ℯ             ⋅sin ⎜sin⎜───⎟⎟⋅cos ⎜───⎟   6⋅x ⋅y \n",
       " ⎝ z ⎠    ⎝   ⎝ z ⎠⎠                            ⎝   ⎝ z ⎠⎠     ⎝ z ⎠          \n",
       "──────────────────── + ───────────────────────────────────────────── - ───────\n",
       "                                              8                               \n",
       "                                             z                                \n",
       "                                                                              \n",
       "\n",
       "     ⎛   ⎛x⋅y⎞⎞                                                      ⎛   ⎛x⋅y⎞\n",
       "  cos⎜sin⎜───⎟⎟                                                   cos⎜sin⎜───⎟\n",
       "     ⎝   ⎝ z ⎠⎠    2⎛   ⎛x⋅y⎞⎞    4⎛x⋅y⎞    ⎛   ⎛x⋅y⎞⎞      4  4     ⎝   ⎝ z ⎠\n",
       "⋅ℯ             ⋅sin ⎜sin⎜───⎟⎟⋅cos ⎜───⎟⋅cos⎜sin⎜───⎟⎟   4⋅x ⋅y ⋅ℯ            \n",
       "                    ⎝   ⎝ z ⎠⎠     ⎝ z ⎠    ⎝   ⎝ z ⎠⎠                        \n",
       "────────────────────────────────────────────────────── - ─────────────────────\n",
       "                        8                                                     \n",
       "                       z                                                      \n",
       "                                                                              \n",
       "\n",
       "⎞                                        ⎛   ⎛x⋅y⎞⎞                           \n",
       "⎟                                     cos⎜sin⎜───⎟⎟                           \n",
       "⎠    2⎛   ⎛x⋅y⎞⎞    4⎛x⋅y⎞      4  4     ⎝   ⎝ z ⎠⎠    2⎛   ⎛x⋅y⎞⎞    2⎛x⋅y⎞  \n",
       " ⋅sin ⎜sin⎜───⎟⎟⋅cos ⎜───⎟   4⋅x ⋅y ⋅ℯ             ⋅sin ⎜sin⎜───⎟⎟⋅cos ⎜───⎟  \n",
       "      ⎝   ⎝ z ⎠⎠     ⎝ z ⎠                              ⎝   ⎝ z ⎠⎠     ⎝ z ⎠  \n",
       "────────────────────────── - ─────────────────────────────────────────────── +\n",
       "   8                                                 8                        \n",
       "  z                                                 z                         \n",
       "                                                                              \n",
       "\n",
       "             ⎛   ⎛x⋅y⎞⎞                                      ⎛   ⎛x⋅y⎞⎞       \n",
       "          cos⎜sin⎜───⎟⎟                                   cos⎜sin⎜───⎟⎟       \n",
       "    4  4     ⎝   ⎝ z ⎠⎠    4⎛x⋅y⎞    2⎛   ⎛x⋅y⎞⎞    4  4     ⎝   ⎝ z ⎠⎠    4⎛x\n",
       " 3⋅x ⋅y ⋅ℯ             ⋅cos ⎜───⎟⋅cos ⎜sin⎜───⎟⎟   x ⋅y ⋅ℯ             ⋅cos ⎜─\n",
       "                            ⎝ z ⎠     ⎝   ⎝ z ⎠⎠                            ⎝ \n",
       " ─────────────────────────────────────────────── + ───────────────────────────\n",
       "                         8                                               8    \n",
       "                        z                                               z     \n",
       "                                                                              \n",
       "\n",
       "                                ⎛   ⎛x⋅y⎞⎞                                    \n",
       "                             cos⎜sin⎜───⎟⎟                                    \n",
       "⋅y⎞    ⎛   ⎛x⋅y⎞⎞      4  4     ⎝   ⎝ z ⎠⎠    2⎛x⋅y⎞    ⎛   ⎛x⋅y⎞⎞            \n",
       "──⎟⋅cos⎜sin⎜───⎟⎟   4⋅x ⋅y ⋅ℯ             ⋅cos ⎜───⎟⋅cos⎜sin⎜───⎟⎟        4  4\n",
       "z ⎠    ⎝   ⎝ z ⎠⎠                              ⎝ z ⎠    ⎝   ⎝ z ⎠⎠     3⋅x ⋅z \n",
       "───────────────── + ────────────────────────────────────────────── - ─────────\n",
       "                                           8                                  \n",
       "                                          z                           4 ⎛ y   \n",
       "                                                                     z ⋅⎝x  - \n",
       "\n",
       "                                                                       ⎛   ⎛x⋅\n",
       "                                                                    cos⎜sin⎜──\n",
       "                                                              3  3     ⎝   ⎝ z\n",
       "⋅x          4  3⋅x           4  2⋅x           4  x        36⋅x ⋅y ⋅ℯ          \n",
       "         6⋅x ⋅z           7⋅x ⋅z             x ⋅z                             \n",
       "──── - ───────────── - ─────────────── - ────────────── - ────────────────────\n",
       "   4               3                 2      4 ⎛ y    x⎞                       \n",
       " x⎞     4 ⎛ y    x⎞       4 ⎛ y    x⎞    2⋅z ⋅⎝x  - z ⎠                       \n",
       "z ⎠    z ⋅⎝x  - z ⎠    2⋅z ⋅⎝x  - z ⎠                                         \n",
       "\n",
       "y⎞⎞                                                 ⎛   ⎛x⋅y⎞⎞                \n",
       "─⎟⎟                                              cos⎜sin⎜───⎟⎟                \n",
       " ⎠⎠    ⎛x⋅y⎞    2⎛   ⎛x⋅y⎞⎞    ⎛x⋅y⎞       3  3     ⎝   ⎝ z ⎠⎠    ⎛x⋅y⎞    ⎛x⋅\n",
       "   ⋅sin⎜───⎟⋅sin ⎜sin⎜───⎟⎟⋅cos⎜───⎟   36⋅x ⋅y ⋅ℯ             ⋅sin⎜───⎟⋅cos⎜──\n",
       "       ⎝ z ⎠     ⎝   ⎝ z ⎠⎠    ⎝ z ⎠                              ⎝ z ⎠    ⎝ z\n",
       "──────────────────────────────────── + ───────────────────────────────────────\n",
       "        7                                                          7          \n",
       "       z                                                          z           \n",
       "                                                                              \n",
       "\n",
       "                                ⎛   ⎛x⋅y⎞⎞                                    \n",
       "                             cos⎜sin⎜───⎟⎟                                    \n",
       "y⎞    ⎛   ⎛x⋅y⎞⎞       3  3     ⎝   ⎝ z ⎠⎠    3⎛   ⎛x⋅y⎞⎞    3⎛x⋅y⎞       3  3\n",
       "─⎟⋅cos⎜sin⎜───⎟⎟   12⋅x ⋅y ⋅ℯ             ⋅sin ⎜sin⎜───⎟⎟⋅cos ⎜───⎟   36⋅x ⋅y \n",
       " ⎠    ⎝   ⎝ z ⎠⎠                               ⎝   ⎝ z ⎠⎠     ⎝ z ⎠           \n",
       "──────────────── - ──────────────────────────────────────────────── + ────────\n",
       "                                           7                                  \n",
       "                                          z                                   \n",
       "                                                                              \n",
       "\n",
       "     ⎛   ⎛x⋅y⎞⎞                                                      ⎛   ⎛x⋅y⎞\n",
       "  cos⎜sin⎜───⎟⎟                                                   cos⎜sin⎜───⎟\n",
       "     ⎝   ⎝ z ⎠⎠    ⎛   ⎛x⋅y⎞⎞    3⎛x⋅y⎞    ⎛   ⎛x⋅y⎞⎞       3  3     ⎝   ⎝ z ⎠\n",
       "⋅ℯ             ⋅sin⎜sin⎜───⎟⎟⋅cos ⎜───⎟⋅cos⎜sin⎜───⎟⎟   12⋅x ⋅y ⋅ℯ            \n",
       "                   ⎝   ⎝ z ⎠⎠     ⎝ z ⎠    ⎝   ⎝ z ⎠⎠                         \n",
       "───────────────────────────────────────────────────── + ──────────────────────\n",
       "                       7                                                      \n",
       "                      z                                                       \n",
       "                                                                              \n",
       "\n",
       "⎞                                        ⎛   ⎛x⋅y⎞⎞                           \n",
       "⎟                                     cos⎜sin⎜───⎟⎟                           \n",
       "⎠    ⎛   ⎛x⋅y⎞⎞    3⎛x⋅y⎞       3  3     ⎝   ⎝ z ⎠⎠    ⎛   ⎛x⋅y⎞⎞    ⎛x⋅y⎞    \n",
       " ⋅sin⎜sin⎜───⎟⎟⋅cos ⎜───⎟   12⋅x ⋅y ⋅ℯ             ⋅sin⎜sin⎜───⎟⎟⋅cos⎜───⎟    \n",
       "     ⎝   ⎝ z ⎠⎠     ⎝ z ⎠                              ⎝   ⎝ z ⎠⎠    ⎝ z ⎠    \n",
       "───────────────────────── + ────────────────────────────────────────────── + ─\n",
       "  7                                                7                          \n",
       " z                                                z                           \n",
       "                                                                             z\n",
       "\n",
       "                                                           ⎛   ⎛x⋅y⎞⎞         \n",
       "                                                        cos⎜sin⎜───⎟⎟         \n",
       "                                                  2  2     ⎝   ⎝ z ⎠⎠    ⎛x⋅y⎞\n",
       "    3  3⋅x          3  2⋅x          3  x      36⋅x ⋅y ⋅ℯ             ⋅sin⎜───⎟\n",
       " 6⋅x ⋅z          9⋅x ⋅z          3⋅x ⋅z                                  ⎝ z ⎠\n",
       "──────────── + ───────────── + ──────────── + ────────────────────────────────\n",
       "           3               2    4 ⎛ y    x⎞                          6        \n",
       "4 ⎛ y    x⎞     4 ⎛ y    x⎞    z ⋅⎝x  - z ⎠                         z         \n",
       " ⋅⎝x  - z ⎠    z ⋅⎝x  - z ⎠                                                   \n",
       "\n",
       "                              ⎛   ⎛x⋅y⎞⎞                                      \n",
       "                           cos⎜sin⎜───⎟⎟                                      \n",
       "    ⎛   ⎛x⋅y⎞⎞       2  2     ⎝   ⎝ z ⎠⎠    2⎛   ⎛x⋅y⎞⎞    2⎛x⋅y⎞       2  2  \n",
       "⋅sin⎜sin⎜───⎟⎟   36⋅x ⋅y ⋅ℯ             ⋅sin ⎜sin⎜───⎟⎟⋅cos ⎜───⎟   36⋅x ⋅y ⋅ℯ\n",
       "    ⎝   ⎝ z ⎠⎠                               ⎝   ⎝ z ⎠⎠     ⎝ z ⎠             \n",
       "────────────── + ──────────────────────────────────────────────── - ──────────\n",
       "                                         6                                    \n",
       "                                        z                                     \n",
       "                                                                              \n",
       "\n",
       "   ⎛   ⎛x⋅y⎞⎞                                                                 \n",
       "cos⎜sin⎜───⎟⎟                                                                 \n",
       "   ⎝   ⎝ z ⎠⎠    2⎛x⋅y⎞    ⎛   ⎛x⋅y⎞⎞                                         \n",
       "             ⋅cos ⎜───⎟⋅cos⎜sin⎜───⎟⎟          2  2⋅x            2  x      24⋅\n",
       "                  ⎝ z ⎠    ⎝   ⎝ z ⎠⎠      11⋅x ⋅z           11⋅x ⋅z          \n",
       "───────────────────────────────────── - ─────────────── - ────────────── - ───\n",
       "              6                                       2      4 ⎛ y    x⎞      \n",
       "             z                             4 ⎛ y    x⎞    2⋅z ⋅⎝x  - z ⎠      \n",
       "                                        2⋅z ⋅⎝x  - z ⎠                        \n",
       "\n",
       "        ⎛   ⎛x⋅y⎞⎞                                                            \n",
       "     cos⎜sin⎜───⎟⎟                                                            \n",
       "        ⎝   ⎝ z ⎠⎠    ⎛   ⎛x⋅y⎞⎞    ⎛x⋅y⎞                                     \n",
       "x⋅y⋅ℯ             ⋅sin⎜sin⎜───⎟⎟⋅cos⎜───⎟           x                         \n",
       "                      ⎝   ⎝ z ⎠⎠    ⎝ z ⎠      3⋅x⋅z        z    4            \n",
       "───────────────────────────────────────── + ──────────── + y ⋅log (y)⋅log(z) +\n",
       "                   5                         4 ⎛ y    x⎞                      \n",
       "                  z                         z ⋅⎝x  - z ⎠                      \n",
       "                                                                              \n",
       "\n",
       "                                                 \n",
       "                                                 \n",
       "                                                 \n",
       "    z    3         z    2         z             z\n",
       " 4⋅y ⋅log (y)   6⋅y ⋅log (y)   8⋅y ⋅log(y)   6⋅y \n",
       " ──────────── - ──────────── + ─────────── - ────\n",
       "      z               2              3         4 \n",
       "                     z              z         z  \n",
       "                                                 "
      ]
     },
     "execution_count": 20,
     "metadata": {},
     "output_type": "execute_result"
    }
   ],
   "source": [
    "hd_z"
   ]
  },
  {
   "cell_type": "markdown",
   "metadata": {},
   "source": [
    "# Automatic Differentiation\n",
    "\n",
    "## Autograd"
   ]
  },
  {
   "cell_type": "code",
   "execution_count": 21,
   "metadata": {},
   "outputs": [
    {
     "name": "stdout",
     "output_type": "stream",
     "text": [
      "Once deleted, variables cannot be recovered. Proceed (y/[n])? y\n"
     ]
    }
   ],
   "source": [
    "%reset\n",
    "#!pip install autograd\n",
    "import autograd.numpy as np\n",
    "from autograd import grad\n",
    "from autograd import elementwise_grad as egrad\n",
    "from autograd import hessian\n",
    "from autograd import jacobian\n",
    "\n",
    "import warnings\n",
    "warnings.simplefilter('ignore')"
   ]
  },
  {
   "cell_type": "code",
   "execution_count": 22,
   "metadata": {},
   "outputs": [
    {
     "data": {
      "image/png": "[encoded data removed]",
      "text/latex": [
       "$\\displaystyle 0.419974341614026$"
      ],
      "text/plain": [
       "0.419974341614026"
      ]
     },
     "execution_count": 22,
     "metadata": {},
     "output_type": "execute_result"
    }
   ],
   "source": [
    "def tanh(x):\n",
    "    y = np.exp(-2.0 * x)\n",
    "    return (1.0 - y) / (1.0 + y)\n",
    "\n",
    "grad_tanh = grad(tanh)\n",
    "grad_tanh(1.0)"
   ]
  },
  {
   "cell_type": "code",
   "execution_count": 23,
   "metadata": {},
   "outputs": [
    {
     "data": {
      "image/png": "[encoded data removed]",
      "text/latex": [
       "$\\displaystyle 0.4199751657552042$"
      ],
      "text/plain": [
       "0.4199751657552042"
      ]
     },
     "execution_count": 23,
     "metadata": {},
     "output_type": "execute_result"
    }
   ],
   "source": [
    "test = 1\n",
    "h = 0.0000000001\n",
    "(tanh(test+h) - tanh(test))/h"
   ]
  },
  {
   "cell_type": "code",
   "execution_count": 24,
   "metadata": {},
   "outputs": [
    {
     "data": {
      "image/png": "[encoded data removed]",
      "text/latex": [
       "$\\displaystyle 0.1353352832366127$"
      ],
      "text/plain": [
       "0.1353352832366127"
      ]
     },
     "execution_count": 24,
     "metadata": {},
     "output_type": "execute_result"
    }
   ],
   "source": [
    "np.exp(-2*test)"
   ]
  },
  {
   "cell_type": "code",
   "execution_count": 25,
   "metadata": {},
   "outputs": [
    {
     "data": {
      "image/png": "[encoded data removed]",
      "text/plain": [
       "<Figure size 720x504 with 1 Axes>"
      ]
     },
     "metadata": {},
     "output_type": "display_data"
    }
   ],
   "source": [
    "#!pip install matplotlib\n",
    "#!pip install seaborn\n",
    "#!pip install pandas\n",
    "%matplotlib inline\n",
    "import matplotlib.pyplot as plt\n",
    "import matplotlib as mp\n",
    "import seaborn as sns\n",
    "import pandas as pd\n",
    "sns.set_style('darkgrid')\n",
    "\n",
    "x = np.linspace(-1,1,100)\n",
    "derivatives = [tanh]\n",
    "\n",
    "grad_tanh=tanh\n",
    "for i in range(1,6):\n",
    "    derivatives.append(egrad(grad_tanh))\n",
    "    grad_tanh = egrad(grad_tanh)\n",
    "\n",
    "#setting the color Map\n",
    "colorMap = mp.cm.get_cmap('brg')\n",
    "\n",
    "fig, ax = plt.subplots(figsize = (10, 7))\n",
    "legend = []\n",
    "for i in range(6):\n",
    "    ax.plot(x, derivatives[i](x), color=colorMap(i/5))\n",
    "    legend.append('Order: '+str(i-0))\n",
    "    \n",
    "ax.legend(legend, fontsize='x-large');\n",
    "ax.tick_params(axis = 'both', which = 'major', labelsize = 14)"
   ]
  },
  {
   "cell_type": "code",
   "execution_count": 27,
   "metadata": {},
   "outputs": [
    {
     "name": "stdout",
     "output_type": "stream",
     "text": [
      "28.4 µs ± 0 ns per loop (mean ± std. dev. of 1 run, 10 loops each)\n"
     ]
    }
   ],
   "source": [
    "%%timeit -n10 -r1\n",
    "grad_tanh=tanh\n",
    "grad_tanh(x)"
   ]
  },
  {
   "cell_type": "code",
   "execution_count": 30,
   "metadata": {},
   "outputs": [],
   "source": [
    "def sigmoid(x):\n",
    "    return 0.5 * (np.tanh(x / 2.) + 1)\n",
    "\n",
    "def logistic_predictions(weights, inputs):\n",
    "    # Outputs probability of a label being true according to logistic model.\n",
    "    return sigmoid(np.dot(inputs, weights))\n",
    "\n",
    "def training_loss(weights):\n",
    "    # Training loss is the negative log-likelihood of the training labels.\n",
    "    preds = logistic_predictions(weights, inputs)\n",
    "    label_probabilities = preds * targets + (1 - preds) * (1 - targets)\n",
    "    return -np.sum(np.log(label_probabilities))\n",
    "\n",
    "# Build a toy dataset.\n",
    "inputs = np.array([[0.52, 1.12,  0.77],\n",
    "                   [0.88, -1.08, 0.15],\n",
    "                   [0.52, 0.06, -1.30],\n",
    "                   [0.74, -2.49, 1.39]])\n",
    "targets = np.array([True, True, False, True])\n",
    "\n",
    "# Define a function that returns gradients of training loss using Autograd.\n",
    "training_gradient_fun = grad(training_loss)\n",
    "\n",
    "# Optimize weights using gradient descent.\n",
    "weights = np.array([0.0, 0.0, 0.0])\n",
    "cache = np.empty((0,3), float)\n",
    "for i in range(10000):\n",
    "    weights -= training_gradient_fun(weights) * 0.1\n",
    "    cache = np.append(cache, [weights], axis=0)\n",
    "\n",
    "cache = pd.DataFrame(cache)"
   ]
  },
  {
   "cell_type": "code",
   "execution_count": 31,
   "metadata": {},
   "outputs": [
    {
     "data": {
      "image/png": "[encoded data removed]",
      "text/plain": [
       "<Figure size 720x504 with 1 Axes>"
      ]
     },
     "metadata": {
      "needs_background": "light"
     },
     "output_type": "display_data"
    }
   ],
   "source": [
    "fig, ax = plt.subplots(figsize = (10,7))\n",
    "ax.plot(cache.index.values, cache);\n",
    "handles, labels = ax.get_legend_handles_labels()\n",
    "ax.legend(cache.columns);"
   ]
  },
  {
   "cell_type": "code",
   "execution_count": 32,
   "metadata": {},
   "outputs": [],
   "source": [
    "def fun(x,y,z):\n",
    "    w = np.exp(np.cos(np.sin(x*y/z))) + \\\n",
    "    np.log(np.sqrt(np.power(x,y) - np.power(z,x))) + \\\n",
    "    np.log(np.power(z, np.power(y,z)))+\\\n",
    "    np.tan(np.cos(x/y))\n",
    "    return w\n",
    "                          \n",
    "def wrapper(fun, order=1, var=0):\n",
    "    T = grad(fun, var)\n",
    "    for i in range(order-1):\n",
    "        T = grad(T,var)\n",
    "    return T"
   ]
  },
  {
   "cell_type": "code",
   "execution_count": 33,
   "metadata": {},
   "outputs": [
    {
     "name": "stdout",
     "output_type": "stream",
     "text": [
      "2.88 s ± 0 ns per loop (mean ± std. dev. of 1 run, 10 loops each)\n"
     ]
    }
   ],
   "source": [
    "%%timeit -n10 -r1\n",
    "hd_x = wrapper(fun,9,0)\n",
    "hd_y = wrapper(fun,3,1)\n",
    "hd_z = wrapper(fun,4,2)\n",
    "\n",
    "hd_x(4.0,1.0,1.0)\n",
    "hd_y(4.0,1.0,1.0)\n",
    "hd_z(4.0,1.0,1.0)"
   ]
  },
  {
   "cell_type": "code",
   "execution_count": 34,
   "metadata": {},
   "outputs": [
    {
     "name": "stdout",
     "output_type": "stream",
     "text": [
      "33355.472029985074\n",
      "249.43885612844014\n",
      "109.65933214460006\n"
     ]
    }
   ],
   "source": [
    "hd_x = wrapper(fun,9,0)\n",
    "hd_y = wrapper(fun,3,1)\n",
    "hd_z = wrapper(fun,4,2)\n",
    "\n",
    "print(hd_x(4.0,1.0,1.0))\n",
    "print(hd_y(4.0,1.0,1.0))\n",
    "print(hd_z(4.0,1.0,1.0))"
   ]
  },
  {
   "cell_type": "markdown",
   "metadata": {},
   "source": [
    "|Symbolic         | Autograd           |\n",
    "|-----------------|--------------------|\n",
    "|33355.4720301172 | 33355.472029985074 |\n",
    "|249.438856128440 | 249.43885612844014 |\n",
    "|109.659332144600 | 109.65933214460006 |"
   ]
  },
  {
   "cell_type": "code",
   "execution_count": 35,
   "metadata": {},
   "outputs": [],
   "source": [
    "def fun1(u, v):\n",
    "    return np.array([np.exp(u*3) + 2*v/u , np.log(u*2) - np.cos(v*u)])\n",
    "\n",
    "def fun2(u,v):\n",
    "    return np.exp(u*3) + 2*v/u\n",
    "\n",
    "F = jacobian(fun1, argnum=0)\n",
    "H_0 = hessian(fun1, argnum=0)\n",
    "H_1 = hessian(fun1, argnum=1)"
   ]
  },
  {
   "cell_type": "code",
   "execution_count": 37,
   "metadata": {},
   "outputs": [
    {
     "name": "stdout",
     "output_type": "stream",
     "text": [
      "[184.76983231  -0.45969769]\n",
      "[0.         0.54030231]\n",
      "[58.25661077  1.84147098]\n"
     ]
    }
   ],
   "source": [
    "print(H_0(1.0, 1.0))\n",
    "print(H_1(1.0, 1.0))\n",
    "print(F(1.0,1.0))"
   ]
  },
  {
   "cell_type": "markdown",
   "metadata": {},
   "source": [
    "## AD"
   ]
  },
  {
   "cell_type": "code",
   "execution_count": 38,
   "metadata": {},
   "outputs": [
    {
     "name": "stdout",
     "output_type": "stream",
     "text": [
      "Once deleted, variables cannot be recovered. Proceed (y/[n])? y\n"
     ]
    }
   ],
   "source": [
    "%reset\n",
    "#!pip install ad\n",
    "import numpy as np \n",
    "import ad as ad\n",
    "from ad.admath import *"
   ]
  },
  {
   "cell_type": "code",
   "execution_count": 39,
   "metadata": {},
   "outputs": [
    {
     "data": {
      "text/plain": [
       "ad(0.9129452507276277)"
      ]
     },
     "execution_count": 39,
     "metadata": {},
     "output_type": "execute_result"
    }
   ],
   "source": [
    "adVariable = ad.adnumber(10)\n",
    "sin(2*adVariable)"
   ]
  },
  {
   "cell_type": "code",
   "execution_count": 40,
   "metadata": {},
   "outputs": [
    {
     "data": {
      "text/plain": [
       "ad(148.4131591025766)"
      ]
     },
     "execution_count": 40,
     "metadata": {},
     "output_type": "execute_result"
    }
   ],
   "source": [
    "exp(adVariable/2)"
   ]
  },
  {
   "cell_type": "code",
   "execution_count": 41,
   "metadata": {},
   "outputs": [
    {
     "data": {
      "image/png": "[encoded data removed]",
      "text/latex": [
       "$\\displaystyle 10$"
      ],
      "text/plain": [
       "10"
      ]
     },
     "execution_count": 41,
     "metadata": {},
     "output_type": "execute_result"
    }
   ],
   "source": [
    "adVariable.x"
   ]
  },
  {
   "cell_type": "code",
   "execution_count": 42,
   "metadata": {},
   "outputs": [
    {
     "name": "stdout",
     "output_type": "stream",
     "text": [
      "ad(13)\n",
      "ad(1000)\n",
      "ad(3.3333333333333335)\n",
      "ad(7)\n",
      "ad(1)\n"
     ]
    }
   ],
   "source": [
    "adVariable2 = ad.adnumber(3)\n",
    "print(adVariable + adVariable2)\n",
    "print(adVariable ** adVariable2)\n",
    "print(adVariable / adVariable2)\n",
    "print(adVariable - adVariable2)\n",
    "print(adVariable % adVariable2)"
   ]
  },
  {
   "cell_type": "code",
   "execution_count": 43,
   "metadata": {},
   "outputs": [
    {
     "name": "stdout",
     "output_type": "stream",
     "text": [
      "ad(0.1, u) ad(3.14, v)\n"
     ]
    }
   ],
   "source": [
    "#Derivatives\n",
    "#number, tag\n",
    "u = ad.adnumber(0.1, 'u')\n",
    "v = ad.adnumber(3.14, 'v')\n",
    "print(u, v)"
   ]
  },
  {
   "cell_type": "markdown",
   "metadata": {},
   "source": [
    "$$sum\\_value = u+2*\\frac{v}{u}$$"
   ]
  },
  {
   "cell_type": "code",
   "execution_count": 44,
   "metadata": {},
   "outputs": [
    {
     "name": "stdout",
     "output_type": "stream",
     "text": [
      "ad(62.9)\n",
      "62.9\n"
     ]
    }
   ],
   "source": [
    "sum_value = u+2*v/u\n",
    "print(sum_value)\n",
    "print(sum_value.x)"
   ]
  },
  {
   "cell_type": "code",
   "execution_count": 45,
   "metadata": {},
   "outputs": [
    {
     "data": {
      "text/plain": [
       "{ad(0.1, u): -626.9999999999999, ad(3.14, v): 20.0}"
      ]
     },
     "execution_count": 45,
     "metadata": {},
     "output_type": "execute_result"
    }
   ],
   "source": [
    "# -627, 20\n",
    "sum_value.d()"
   ]
  },
  {
   "cell_type": "code",
   "execution_count": 46,
   "metadata": {},
   "outputs": [
    {
     "data": {
      "image/png": "[encoded data removed]",
      "text/latex": [
       "$\\displaystyle \\left[ -626.9999999999999, \\  20.0\\right]$"
      ],
      "text/plain": [
       "[-626.9999999999999, 20.0]"
      ]
     },
     "execution_count": 46,
     "metadata": {},
     "output_type": "execute_result"
    }
   ],
   "source": [
    "sum_value.gradient([u, v])"
   ]
  },
  {
   "cell_type": "code",
   "execution_count": 47,
   "metadata": {},
   "outputs": [
    {
     "name": "stdout",
     "output_type": "stream",
     "text": [
      "[[12559.999999999998, -199.99999999999997], [-199.99999999999997, 0.0]]\n"
     ]
    }
   ],
   "source": [
    "print(sum_value.hessian([u, v]))"
   ]
  },
  {
   "cell_type": "code",
   "execution_count": 48,
   "metadata": {},
   "outputs": [
    {
     "data": {
      "image/png": "[encoded data removed]",
      "text/latex": [
       "$\\displaystyle \\left[ \\left[ 0.022747289146354686, \\  -0.0016680754424975013\\right], \\  \\left[ -626.9999999999999, \\  20.0\\right]\\right]$"
      ],
      "text/plain": [
       "[[0.022747289146354686, -0.0016680754424975013], [-626.9999999999999, 20.0]]"
      ]
     },
     "execution_count": 48,
     "metadata": {},
     "output_type": "execute_result"
    }
   ],
   "source": [
    "square = u**v\n",
    "ad.jacobian([square, sum_value], [u, v])"
   ]
  },
  {
   "cell_type": "code",
   "execution_count": 49,
   "metadata": {},
   "outputs": [],
   "source": [
    "x = ad.adnumber(4)\n",
    "y = ad.adnumber(1)\n",
    "z = ad.adnumber(1)\n",
    "fun = exp(cos(sin(x*y/z)))+log(sqrt(x**y - z**x)) + ln(z**(y**z))+tan(cos(x/y))"
   ]
  },
  {
   "cell_type": "code",
   "execution_count": 50,
   "metadata": {},
   "outputs": [
    {
     "name": "stdout",
     "output_type": "stream",
     "text": [
      "8.66 µs ± 0 ns per loop (mean ± std. dev. of 1 run, 10 loops each)\n"
     ]
    }
   ],
   "source": [
    "%%timeit -n10 -r1\n",
    "hd_x = fun.d2(x)\n",
    "hd_y = fun.d2(y)\n",
    "hd_z = fun.d2(z)"
   ]
  },
  {
   "cell_type": "code",
   "execution_count": null,
   "metadata": {},
   "outputs": [],
   "source": []
  }
 ],
 "metadata": {
  "kernelspec": {
   "display_name": "Python 3",
   "language": "python",
   "name": "python3"
  },
  "language_info": {
   "codemirror_mode": {
    "name": "ipython",
    "version": 3
   },
   "file_extension": ".py",
   "mimetype": "text/x-python",
   "name": "python",
   "nbconvert_exporter": "python",
   "pygments_lexer": "ipython3",
   "version": "3.6.5"
  }
 },
 "nbformat": 4,
 "nbformat_minor": 2
}
